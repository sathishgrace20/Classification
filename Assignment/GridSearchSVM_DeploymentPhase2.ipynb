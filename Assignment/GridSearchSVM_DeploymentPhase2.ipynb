{
 "cells": [
  {
   "cell_type": "code",
   "execution_count": 1,
   "id": "e38f92c8-bc62-44cd-9efb-f578c5efd5eb",
   "metadata": {},
   "outputs": [],
   "source": [
    "import pickle"
   ]
  },
  {
   "cell_type": "code",
   "execution_count": 3,
   "id": "9aa22931-89c9-4dc1-a363-34f9c681f314",
   "metadata": {},
   "outputs": [],
   "source": [
    "loaded_model=pickle.load(open(\"Finalised_SVC_GridSModel.sav\",'rb'))"
   ]
  },
  {
   "cell_type": "code",
   "execution_count": 4,
   "id": "8aea70b3-4c04-4dac-a385-d75b7b9ee820",
   "metadata": {},
   "outputs": [],
   "source": [
    "result=loaded_model.predict([[2,\t76.45994832,3,\t0,\t148.1126761,\t57.48210526,\t3.077356021,\t137.528754,\t4.62724359,\t12.51815562,\t38.86890244,\t8408.191126,\n",
    "4.705597015,\t0,\t1,\t0,\t0,\t1,\t0,\t0,\t0,\t0,\t0,\t0,\t1,\t1,\t0]])"
   ]
  },
  {
   "cell_type": "code",
   "execution_count": 5,
   "id": "d838c942-4616-421c-929d-37c5aa35777f",
   "metadata": {},
   "outputs": [
    {
     "data": {
      "text/plain": [
       "array([1])"
      ]
     },
     "execution_count": 5,
     "metadata": {},
     "output_type": "execute_result"
    }
   ],
   "source": [
    "result"
   ]
  },
  {
   "cell_type": "code",
   "execution_count": null,
   "id": "3efe0974-b79d-4433-b2e8-ebc24daf3206",
   "metadata": {},
   "outputs": [],
   "source": []
  }
 ],
 "metadata": {
  "kernelspec": {
   "display_name": "Python 3 (ipykernel)",
   "language": "python",
   "name": "python3"
  },
  "language_info": {
   "codemirror_mode": {
    "name": "ipython",
    "version": 3
   },
   "file_extension": ".py",
   "mimetype": "text/x-python",
   "name": "python",
   "nbconvert_exporter": "python",
   "pygments_lexer": "ipython3",
   "version": "3.11.11"
  }
 },
 "nbformat": 4,
 "nbformat_minor": 5
}
